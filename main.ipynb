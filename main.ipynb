{
  "nbformat": 4,
  "nbformat_minor": 0,
  "metadata": {
    "colab": {
      "name": "main.ipynb",
      "provenance": [],
      "collapsed_sections": []
    },
    "kernelspec": {
      "name": "python3",
      "display_name": "Python 3"
    },
    "language_info": {
      "name": "python"
    },
    "accelerator": "GPU"
  },
  "cells": [
    {
      "cell_type": "markdown",
      "metadata": {
        "id": "ViUEiEC4JPyV"
      },
      "source": [
        "## **Import libraries**"
      ]
    },
    {
      "cell_type": "code",
      "metadata": {
        "id": "qLCvAzHQJG-O"
      },
      "source": [
        "import tensorflow as tf\n",
        "from tensorflow.keras.layers.experimental import preprocessing\n",
        "from tensorflow.keras.utils import get_file\n",
        "\n",
        "import numpy as np\n",
        "import os\n",
        "import time"
      ],
      "execution_count": 1,
      "outputs": []
    },
    {
      "cell_type": "markdown",
      "metadata": {
        "id": "mizD2wfgJUVI"
      },
      "source": [
        "## **Download dataset**"
      ]
    },
    {
      "cell_type": "code",
      "metadata": {
        "id": "FgBlo3USJTWy"
      },
      "source": [
        "# Download the Shakespeare dataset\n",
        "path_to_file = get_file('shakespeare.txt', 'https://storage.googleapis.com/download.tensorflow.org/data/shakespeare.txt')"
      ],
      "execution_count": 2,
      "outputs": []
    },
    {
      "cell_type": "markdown",
      "metadata": {
        "id": "EIt7ydXsJd3A"
      },
      "source": [
        "## **Read the data**"
      ]
    },
    {
      "cell_type": "code",
      "metadata": {
        "id": "zX8b2ze2Jcad"
      },
      "source": [
        "# Read the data and decode it\n",
        "text = open(path_to_file, 'rb').read().decode(encoding='utf-8')"
      ],
      "execution_count": 3,
      "outputs": []
    },
    {
      "cell_type": "code",
      "metadata": {
        "colab": {
          "base_uri": "https://localhost:8080/"
        },
        "id": "em5gJW8bJjbX",
        "outputId": "e0e4d47a-1601-422b-ae88-b3ea9ad3b278"
      },
      "source": [
        "# To get the length of the dataset\n",
        "print(f'Length of text: {len(text)} characters')"
      ],
      "execution_count": 4,
      "outputs": [
        {
          "output_type": "stream",
          "name": "stdout",
          "text": [
            "Length of text: 1115394 characters\n"
          ]
        }
      ]
    },
    {
      "cell_type": "code",
      "metadata": {
        "colab": {
          "base_uri": "https://localhost:8080/"
        },
        "id": "rljx0dujJkFu",
        "outputId": "a5795f6a-dfb5-4578-8185-14ba3338d85b"
      },
      "source": [
        "# Take a peek at the dataset, to see how it looks and is structured\n",
        "print(text[:250])"
      ],
      "execution_count": 5,
      "outputs": [
        {
          "output_type": "stream",
          "name": "stdout",
          "text": [
            "First Citizen:\n",
            "Before we proceed any further, hear me speak.\n",
            "\n",
            "All:\n",
            "Speak, speak.\n",
            "\n",
            "First Citizen:\n",
            "You are all resolved rather to die than to famish?\n",
            "\n",
            "All:\n",
            "Resolved. resolved.\n",
            "\n",
            "First Citizen:\n",
            "First, you know Caius Marcius is chief enemy to the people.\n",
            "\n"
          ]
        }
      ]
    },
    {
      "cell_type": "code",
      "metadata": {
        "colab": {
          "base_uri": "https://localhost:8080/"
        },
        "id": "J0aVPBq0Jl-o",
        "outputId": "7fd1a64f-79d5-4f44-c874-d52d9b817419"
      },
      "source": [
        "# To get the unique characters in the data\n",
        "vocab = sorted(set(text))\n",
        "print(f'There are {len(vocab)} unique characters in the text')"
      ],
      "execution_count": 6,
      "outputs": [
        {
          "output_type": "stream",
          "name": "stdout",
          "text": [
            "There are 65 unique characters in the text\n"
          ]
        }
      ]
    },
    {
      "cell_type": "markdown",
      "metadata": {
        "id": "UIbrAQ5yJpZ_"
      },
      "source": [
        "## **Process the text**"
      ]
    },
    {
      "cell_type": "markdown",
      "metadata": {
        "id": "4l2yBjbDJuK0"
      },
      "source": [
        "### Vectorise the text"
      ]
    },
    {
      "cell_type": "code",
      "metadata": {
        "id": "j41WMZvNJz7I"
      },
      "source": [
        "# Convert each character into a numeric id\n",
        "ids_from_chars = preprocessing.StringLookup(\n",
        "    vocabulary=list(vocab), mask_token=None)"
      ],
      "execution_count": 7,
      "outputs": []
    },
    {
      "cell_type": "code",
      "metadata": {
        "id": "rconyKnUJ32F"
      },
      "source": [
        "# Convert numeric id into characters\n",
        "chars_from_ids = tf.keras.layers.experimental.preprocessing.StringLookup(\n",
        "    vocabulary=ids_from_chars.get_vocabulary(), invert=True, mask_token=None)"
      ],
      "execution_count": 8,
      "outputs": []
    },
    {
      "cell_type": "code",
      "metadata": {
        "id": "29ZqXBWMJ8DT"
      },
      "source": [
        "# Function to extract string from the characters converted from the numeric ids\n",
        "def text_from_ids(ids):\n",
        "  return tf.strings.reduce_join(chars_from_ids(ids), axis=-1)"
      ],
      "execution_count": 9,
      "outputs": []
    },
    {
      "cell_type": "markdown",
      "metadata": {
        "id": "kF-CpicfJ_-7"
      },
      "source": [
        "### Create training data and targets"
      ]
    },
    {
      "cell_type": "code",
      "metadata": {
        "colab": {
          "base_uri": "https://localhost:8080/"
        },
        "id": "cX4SjzhSJ91a",
        "outputId": "102b074f-37ff-46b9-e4cc-f01b70767d01"
      },
      "source": [
        "# Generate ids for all the tokens in the text\n",
        "all_ids = ids_from_chars(tf.strings.unicode_split(text, 'UTF-8'))\n",
        "all_ids"
      ],
      "execution_count": 10,
      "outputs": [
        {
          "output_type": "execute_result",
          "data": {
            "text/plain": [
              "<tf.Tensor: shape=(1115394,), dtype=int64, numpy=array([19, 48, 57, ..., 46,  9,  1])>"
            ]
          },
          "metadata": {},
          "execution_count": 10
        }
      ]
    },
    {
      "cell_type": "code",
      "metadata": {
        "id": "JOoIL8V9KEFB"
      },
      "source": [
        "# Convert the text vector into a stream of character indices\n",
        "ids_dataset = tf.data.Dataset.from_tensor_slices(all_ids)"
      ],
      "execution_count": 11,
      "outputs": []
    },
    {
      "cell_type": "code",
      "metadata": {
        "id": "QRxrBrq9KHAT"
      },
      "source": [
        "seq_length = 100\n",
        "examples_per_epoch = len(text)//(seq_length+1)"
      ],
      "execution_count": 12,
      "outputs": []
    },
    {
      "cell_type": "code",
      "metadata": {
        "id": "6x42_UnmKIML"
      },
      "source": [
        "# To convert the individual characters to sequences of the desired size\n",
        "sequences = ids_dataset.batch(seq_length+1, drop_remainder=True)"
      ],
      "execution_count": 13,
      "outputs": []
    },
    {
      "cell_type": "code",
      "metadata": {
        "id": "7XUhNdGDKLCS"
      },
      "source": [
        "# Function to take a sequence as input, duplicate and shift it to align the input and label for each timestep\n",
        "def split_input_target(sequence):\n",
        "    input_text = sequence[:-1]\n",
        "    target_text = sequence[1:]\n",
        "    return input_text, target_text"
      ],
      "execution_count": 14,
      "outputs": []
    },
    {
      "cell_type": "code",
      "metadata": {
        "id": "o8Px4zaWKOG4"
      },
      "source": [
        "dataset = sequences.map(split_input_target)"
      ],
      "execution_count": 15,
      "outputs": []
    },
    {
      "cell_type": "code",
      "metadata": {
        "colab": {
          "base_uri": "https://localhost:8080/"
        },
        "id": "VAR_1-efKPka",
        "outputId": "0fa16272-7661-4b00-8dd3-ca6ca0a4769e"
      },
      "source": [
        "for input_example, target_example in dataset.take(1):\n",
        "    print(\"Input :\", text_from_ids(input_example).numpy())\n",
        "    print(\"Target:\", text_from_ids(target_example).numpy())"
      ],
      "execution_count": 16,
      "outputs": [
        {
          "output_type": "stream",
          "name": "stdout",
          "text": [
            "Input : b'First Citizen:\\nBefore we proceed any further, hear me speak.\\n\\nAll:\\nSpeak, speak.\\n\\nFirst Citizen:\\nYou'\n",
            "Target: b'irst Citizen:\\nBefore we proceed any further, hear me speak.\\n\\nAll:\\nSpeak, speak.\\n\\nFirst Citizen:\\nYou '\n"
          ]
        }
      ]
    },
    {
      "cell_type": "markdown",
      "metadata": {
        "id": "HH7cRd93KR-M"
      },
      "source": [
        "### Create training batches"
      ]
    },
    {
      "cell_type": "code",
      "metadata": {
        "id": "DMzVOfz3KQwR"
      },
      "source": [
        "# Batch size\n",
        "BATCH_SIZE = 64\n",
        "\n",
        "# Buffer size to shuffle the dataset\n",
        "BUFFER_SIZE = 10000\n",
        "\n",
        "# Generate the training dataset\n",
        "dataset = (\n",
        "    dataset\n",
        "    .shuffle(BUFFER_SIZE)\n",
        "    .batch(BATCH_SIZE, drop_remainder=True)\n",
        "    .prefetch(tf.data.experimental.AUTOTUNE))"
      ],
      "execution_count": 17,
      "outputs": []
    },
    {
      "cell_type": "markdown",
      "metadata": {
        "id": "FyWaorxzKY98"
      },
      "source": [
        "## **Build The Model**"
      ]
    },
    {
      "cell_type": "code",
      "metadata": {
        "id": "YCKIOZFdKVEG"
      },
      "source": [
        "# Length of the vocabulary in chars\n",
        "vocab_size = len(vocab)\n",
        "\n",
        "# The embedding dimension\n",
        "embedding_dim = 256\n",
        "\n",
        "# Number of RNN units\n",
        "rnn_units = 1024"
      ],
      "execution_count": 18,
      "outputs": []
    },
    {
      "cell_type": "code",
      "metadata": {
        "id": "86PAns0yKcE-"
      },
      "source": [
        "# Define the model\n",
        "class MyModel(tf.keras.Model):\n",
        "  \n",
        "  def __init__(self, vocab_size, embedding_dim, rnn_units):\n",
        "    super().__init__(self)\n",
        "    # The input layer\n",
        "    self.embedding = tf.keras.layers.Embedding(vocab_size, embedding_dim)\n",
        "    # The RNN layer\n",
        "    self.gru = tf.keras.layers.GRU(rnn_units,\n",
        "                                   return_sequences=True,\n",
        "                                   return_state=True)\n",
        "    # The output layer\n",
        "    self.dense = tf.keras.layers.Dense(vocab_size)\n",
        "\n",
        "  def call(self, inputs, states=None, return_state=False, training=False):\n",
        "    x = inputs\n",
        "    x = self.embedding(x, training=training)\n",
        "    if states is None:\n",
        "      states = self.gru.get_initial_state(x)\n",
        "    x, states = self.gru(x, initial_state=states, training=training)\n",
        "    x = self.dense(x, training=training)\n",
        "\n",
        "    if return_state:\n",
        "      return x, states\n",
        "    else:\n",
        "      return x"
      ],
      "execution_count": 19,
      "outputs": []
    },
    {
      "cell_type": "code",
      "metadata": {
        "id": "htcWschZKdar"
      },
      "source": [
        "# Instantiate an RNN model object\n",
        "model = MyModel(\n",
        "    # vocabulary size must match the `StringLookup` layers\n",
        "    vocab_size=len(ids_from_chars.get_vocabulary()),\n",
        "    embedding_dim=embedding_dim,\n",
        "    rnn_units=rnn_units)"
      ],
      "execution_count": 20,
      "outputs": []
    },
    {
      "cell_type": "markdown",
      "metadata": {
        "id": "nPIXcg7PKwyj"
      },
      "source": [
        "## **Train the model**"
      ]
    },
    {
      "cell_type": "markdown",
      "metadata": {
        "id": "aLy8CoSUKzuK"
      },
      "source": [
        "### Attach an optimizer, and a loss function"
      ]
    },
    {
      "cell_type": "code",
      "metadata": {
        "id": "l17aQ4zKKs8l"
      },
      "source": [
        "# Apply sparse categorical crossentropy loss function\n",
        "loss = tf.losses.SparseCategoricalCrossentropy(from_logits=True)"
      ],
      "execution_count": 21,
      "outputs": []
    },
    {
      "cell_type": "code",
      "metadata": {
        "id": "eIfht4z3K4xJ"
      },
      "source": [
        "# Compile with loss function and ADAM optimizer\n",
        "model.compile(optimizer='adam', loss=loss)"
      ],
      "execution_count": 22,
      "outputs": []
    },
    {
      "cell_type": "markdown",
      "metadata": {
        "id": "8hg-HVy0K7TO"
      },
      "source": [
        "### Configure checkpoints"
      ]
    },
    {
      "cell_type": "code",
      "metadata": {
        "id": "rZi0R-aeK6Jh"
      },
      "source": [
        "# Directory to save the model checkpoints\n",
        "checkpoint_dir = './training_checkpoints'\n",
        "# Name of the checkpoint files\n",
        "checkpoint_prefix = os.path.join(checkpoint_dir, \"ckpt_{epoch}\")\n",
        "\n",
        "checkpoint_callback = tf.keras.callbacks.ModelCheckpoint(\n",
        "    filepath=checkpoint_prefix,\n",
        "    save_weights_only=True)"
      ],
      "execution_count": 23,
      "outputs": []
    },
    {
      "cell_type": "markdown",
      "metadata": {
        "id": "ugViqprtK_TZ"
      },
      "source": [
        "### Execute the training"
      ]
    },
    {
      "cell_type": "code",
      "metadata": {
        "id": "vzK1J8l-K-Ce"
      },
      "source": [
        "# The number of epochs\n",
        "EPOCHS = 20"
      ],
      "execution_count": 24,
      "outputs": []
    },
    {
      "cell_type": "code",
      "metadata": {
        "colab": {
          "base_uri": "https://localhost:8080/"
        },
        "id": "ZKi6N1srLBxE",
        "outputId": "5c003691-7178-4c5e-f4b5-6c4b7a70a1c4"
      },
      "source": [
        "# Train the model\n",
        "history = model.fit(dataset, epochs=EPOCHS, callbacks=[checkpoint_callback])"
      ],
      "execution_count": 25,
      "outputs": [
        {
          "output_type": "stream",
          "name": "stdout",
          "text": [
            "Epoch 1/20\n",
            "172/172 [==============================] - 28s 135ms/step - loss: 2.6808\n",
            "Epoch 2/20\n",
            "172/172 [==============================] - 25s 133ms/step - loss: 1.9601\n",
            "Epoch 3/20\n",
            "172/172 [==============================] - 25s 134ms/step - loss: 1.6828\n",
            "Epoch 4/20\n",
            "172/172 [==============================] - 25s 134ms/step - loss: 1.5262\n",
            "Epoch 5/20\n",
            "172/172 [==============================] - 25s 135ms/step - loss: 1.4318\n",
            "Epoch 6/20\n",
            "172/172 [==============================] - 25s 134ms/step - loss: 1.3650\n",
            "Epoch 7/20\n",
            "172/172 [==============================] - 25s 134ms/step - loss: 1.3137\n",
            "Epoch 8/20\n",
            "172/172 [==============================] - 24s 132ms/step - loss: 1.2684\n",
            "Epoch 9/20\n",
            "172/172 [==============================] - 25s 134ms/step - loss: 1.2272\n",
            "Epoch 10/20\n",
            "172/172 [==============================] - 24s 133ms/step - loss: 1.1860\n",
            "Epoch 11/20\n",
            "172/172 [==============================] - 24s 133ms/step - loss: 1.1460\n",
            "Epoch 12/20\n",
            "172/172 [==============================] - 24s 133ms/step - loss: 1.1019\n",
            "Epoch 13/20\n",
            "172/172 [==============================] - 25s 133ms/step - loss: 1.0570\n",
            "Epoch 14/20\n",
            "172/172 [==============================] - 25s 133ms/step - loss: 1.0103\n",
            "Epoch 15/20\n",
            "172/172 [==============================] - 24s 132ms/step - loss: 0.9598\n",
            "Epoch 16/20\n",
            "172/172 [==============================] - 24s 132ms/step - loss: 0.9071\n",
            "Epoch 17/20\n",
            "172/172 [==============================] - 24s 132ms/step - loss: 0.8548\n",
            "Epoch 18/20\n",
            "172/172 [==============================] - 25s 134ms/step - loss: 0.8031\n",
            "Epoch 19/20\n",
            "172/172 [==============================] - 25s 133ms/step - loss: 0.7536\n",
            "Epoch 20/20\n",
            "172/172 [==============================] - 24s 133ms/step - loss: 0.7068\n"
          ]
        }
      ]
    },
    {
      "cell_type": "markdown",
      "metadata": {
        "id": "GxisHRAJOjsd"
      },
      "source": [
        "## **Generate text**"
      ]
    },
    {
      "cell_type": "code",
      "metadata": {
        "id": "CXTyQkrLLCx8"
      },
      "source": [
        "# Model to make a single step prediction\n",
        "class OneStep(tf.keras.Model):\n",
        "  \n",
        "  def __init__(self, model, chars_from_ids, ids_from_chars, temperature=1.0):\n",
        "    super().__init__()\n",
        "    self.temperature = temperature\n",
        "    self.model = model\n",
        "    self.chars_from_ids = chars_from_ids\n",
        "    self.ids_from_chars = ids_from_chars\n",
        "\n",
        "    # Create a mask to prevent \"[UNK]\" from being generated.\n",
        "    skip_ids = self.ids_from_chars(['[UNK]'])[:, None]\n",
        "    sparse_mask = tf.SparseTensor(\n",
        "        # Put a -inf at each bad index.\n",
        "        values=[-float('inf')]*len(skip_ids),\n",
        "        indices=skip_ids,\n",
        "        # Match the shape to the vocabulary\n",
        "        dense_shape=[len(ids_from_chars.get_vocabulary())])\n",
        "    self.prediction_mask = tf.sparse.to_dense(sparse_mask)\n",
        "\n",
        "  @tf.function\n",
        "  def generate_one_step(self, inputs, states=None):\n",
        "    # Convert strings to token IDs.\n",
        "    input_chars = tf.strings.unicode_split(inputs, 'UTF-8')\n",
        "    input_ids = self.ids_from_chars(input_chars).to_tensor()\n",
        "\n",
        "    # Run the model.\n",
        "    # predicted_logits.shape is [batch, char, next_char_logits]\n",
        "    predicted_logits, states = self.model(inputs=input_ids, states=states,\n",
        "                                          return_state=True)\n",
        "    # Only use the last prediction.\n",
        "    predicted_logits = predicted_logits[:, -1, :]\n",
        "    predicted_logits = predicted_logits/self.temperature\n",
        "    # Apply the prediction mask: prevent \"[UNK]\" from being generated.\n",
        "    predicted_logits = predicted_logits + self.prediction_mask\n",
        "\n",
        "    # Sample the output logits to generate token IDs.\n",
        "    predicted_ids = tf.random.categorical(predicted_logits, num_samples=1)\n",
        "    predicted_ids = tf.squeeze(predicted_ids, axis=-1)\n",
        "\n",
        "    # Convert from token ids to characters\n",
        "    predicted_chars = self.chars_from_ids(predicted_ids)\n",
        "\n",
        "    # Return the characters and model state.\n",
        "    return predicted_chars, states"
      ],
      "execution_count": 26,
      "outputs": []
    },
    {
      "cell_type": "code",
      "metadata": {
        "id": "EEXlfivnOnuJ"
      },
      "source": [
        "# Instantiate model object\n",
        "one_step_model = OneStep(model, chars_from_ids, ids_from_chars)"
      ],
      "execution_count": 27,
      "outputs": []
    },
    {
      "cell_type": "code",
      "metadata": {
        "colab": {
          "base_uri": "https://localhost:8080/"
        },
        "id": "2WyAfhs0OpRP",
        "outputId": "e6c06bb4-6fbc-4e9a-df7d-fa346c4ea475"
      },
      "source": [
        "# Run the model in a loop to generate text\n",
        "start = time.time()\n",
        "states = None\n",
        "# Initial character to start the model\n",
        "next_char = tf.constant(['ROMEO:'])\n",
        "result = [next_char]\n",
        "\n",
        "for n in range(1000):\n",
        "  next_char, states = one_step_model.generate_one_step(next_char, states=states)\n",
        "  result.append(next_char)\n",
        "\n",
        "result = tf.strings.join(result)\n",
        "end = time.time()\n",
        "print(result[0].numpy().decode('utf-8'), '\\n\\n' + '_'*80)\n",
        "print('\\nRun time:', end - start)"
      ],
      "execution_count": 28,
      "outputs": [
        {
          "output_type": "stream",
          "name": "stdout",
          "text": [
            "ROMEO:\n",
            "The doughbour of a fellow, she sons, of worship,\n",
            "The ghost to clothe my foe, sir, and I\n",
            "love, and a spirit, wine are glads:\n",
            "Out, and all ready expiring Juliet,\n",
            "She wilt say 'she's lawful, proud heart's less care!\n",
            "\n",
            "BISHOP OF CARLISLE:\n",
            "But then,' quoth he, a royal prince, a cover:\n",
            "But as the same I none but seem to abbut;\n",
            "But as in words are fortingling some coals\n",
            "From who till she had made no kindred of the dispose:\n",
            "But what makes BerNown shall you wounds;\n",
            "For beauty makes thee here by life.\n",
            "Ay, full as uncles no better; in which seem to vig\n",
            "His goathy withing him for thee Duke of York.\n",
            "\n",
            "GLOUCESTER:\n",
            "On year'st or damned with a small-orver\n",
            "as free my father's fault or little,\n",
            "Oft child, 'tis gone: if heavens that thou reasons too much\n",
            "The day were force even four a diftener me\n",
            "To plain forth more advice: part of England,\n",
            "Depair'd with slow of danger lies you.\n",
            "For shame doth receive away yielder deliver!\n",
            "O holy carefully hear me but shall swear I will,\n",
            "For mother is but a statutes by tou \n",
            "\n",
            "________________________________________________________________________________\n",
            "\n",
            "Run time: 5.040877103805542\n"
          ]
        }
      ]
    },
    {
      "cell_type": "markdown",
      "metadata": {
        "id": "RCuAMv9vO6TI"
      },
      "source": [
        "## **Export the Generator**"
      ]
    },
    {
      "cell_type": "code",
      "metadata": {
        "colab": {
          "base_uri": "https://localhost:8080/"
        },
        "id": "spAIFJOrO2sR",
        "outputId": "a5721b4a-9336-4b9f-8852-f0b4adc06239"
      },
      "source": [
        "# Export the model\n",
        "tf.saved_model.save(one_step_model, 'one_step')\n",
        "one_step_reloaded = tf.saved_model.load('one_step')"
      ],
      "execution_count": 29,
      "outputs": [
        {
          "output_type": "stream",
          "name": "stdout",
          "text": [
            "WARNING:tensorflow:Skipping full serialization of Keras layer <__main__.OneStep object at 0x7f13d4a24b50>, because it is not built.\n"
          ]
        },
        {
          "output_type": "stream",
          "name": "stderr",
          "text": [
            "WARNING:absl:Found untraced functions such as gru_cell_layer_call_fn, gru_cell_layer_call_and_return_conditional_losses, gru_cell_layer_call_fn, gru_cell_layer_call_and_return_conditional_losses, gru_cell_layer_call_and_return_conditional_losses while saving (showing 5 of 5). These functions will not be directly callable after loading.\n"
          ]
        },
        {
          "output_type": "stream",
          "name": "stdout",
          "text": [
            "INFO:tensorflow:Assets written to: one_step/assets\n"
          ]
        },
        {
          "output_type": "stream",
          "name": "stderr",
          "text": [
            "INFO:tensorflow:Assets written to: one_step/assets\n"
          ]
        }
      ]
    }
  ]
}